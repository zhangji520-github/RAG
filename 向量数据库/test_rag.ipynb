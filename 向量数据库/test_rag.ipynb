{
 "cells": [
  {
   "cell_type": "markdown",
   "id": "782c4014",
   "metadata": {},
   "source": [
    "## 准备数据"
   ]
  },
  {
   "cell_type": "code",
   "execution_count": 1,
   "id": "bdbe26bc",
   "metadata": {},
   "outputs": [
    {
     "name": "stderr",
     "output_type": "stream",
     "text": [
      "USER_AGENT environment variable not set, consider setting it to identify your requests.\n"
     ]
    },
    {
     "data": {
      "text/plain": [
       "Document(metadata={'source': 'https://lilianweng.github.io/posts/2023-06-23-agent/'}, page_content='Component One: Planning#\\nA complicated task usually involves many steps. An agent needs to know what they are and plan ahead.\\nTask Decomposition#\\nChain of thought (CoT; Wei et al. 2022) has become a standard prompting technique for enhancing model performance on complex tasks. The model is instructed to “think step by step” to utilize more test-time computation to decompose hard tasks into smaller and simpler steps. CoT transforms big tasks into multiple manageable tasks and shed lights into an interpretation of the model’s thinking process.\\nTree of Thoughts (Yao et al. 2023) extends CoT by exploring multiple reasoning possibilities at each step. It first decomposes the problem into multiple thought steps and generates multiple thoughts per step, creating a tree structure. The search process can be BFS (breadth-first search) or DFS (depth-first search) with each state evaluated by a classifier (via a prompt) or majority vote.\\nTask decomposition can be done (1) by LLM with simple prompting like \"Steps for XYZ.\\\\n1.\", \"What are the subgoals for achieving XYZ?\", (2) by using task-specific instructions; e.g. \"Write a story outline.\" for writing a novel, or (3) with human inputs.\\nAnother quite distinct approach, LLM+P (Liu et al. 2023), involves relying on an external classical planner to do long-horizon planning. This approach utilizes the Planning Domain Definition Language (PDDL) as an intermediate interface to describe the planning problem. In this process, LLM (1) translates the problem into “Problem PDDL”, then (2) requests a classical planner to generate a PDDL plan based on an existing “Domain PDDL”, and finally (3) translates the PDDL plan back into natural language. Essentially, the planning step is outsourced to an external tool, assuming the availability of domain-specific PDDL and a suitable planner which is common in certain robotic setups but not in many other domains.\\nSelf-Reflection#')"
      ]
     },
     "execution_count": 1,
     "metadata": {},
     "output_type": "execute_result"
    }
   ],
   "source": [
    "import bs4\n",
    "from langchain_community.document_loaders import WebBaseLoader\n",
    "from langchain_text_splitters import RecursiveCharacterTextSplitter\n",
    "\n",
    "loader = WebBaseLoader(\n",
    "    web_paths=(\n",
    "        \"https://lilianweng.github.io/posts/2023-06-23-agent/\",\n",
    "        \"https://lilianweng.github.io/posts/2023-03-15-prompt-engineering/\",\n",
    "    ),\n",
    "    bs_kwargs=dict(\n",
    "        parse_only=bs4.SoupStrainer(\n",
    "            class_=(\"post-content\", \"post-title\", \"post-header\")\n",
    "        )\n",
    "    ),\n",
    ")\n",
    "documents = loader.load()\n",
    "text_splitter = RecursiveCharacterTextSplitter(chunk_size=2000, chunk_overlap=200)\n",
    "\n",
    "docs = text_splitter.split_documents(documents)\n",
    "\n",
    "docs[1]"
   ]
  },
  {
   "cell_type": "markdown",
   "id": "9db231f5",
   "metadata": {},
   "source": [
    "## 实例化Milvus的向量数据库，该数据库会将文档加载到Milvs向量数据库并在后台构建索引"
   ]
  },
  {
   "cell_type": "code",
   "execution_count": 2,
   "id": "9347060f",
   "metadata": {},
   "outputs": [
    {
     "name": "stderr",
     "output_type": "stream",
     "text": [
      "2025-08-26 17:50:43,263 [DEBUG][_create_connection]: Created new connection using: async-http://localhost:19530 (async_milvus_client.py:599)\n"
     ]
    }
   ],
   "source": [
    "import sys\n",
    "from langchain_milvus import Milvus\n",
    "sys.path.append(\"..\")\n",
    "from llm_utils import qwen_embeddings,llm,openai_embedding\n",
    "\n",
    "docs = docs[:10]  # 限制文档数量，避免批量过大报错\n",
    "vectorstore = Milvus.from_documents(\n",
    "    documents=docs,\n",
    "    embedding=openai_embedding,\n",
    "    connection_args={\n",
    "        \"uri\": \"http://localhost:19530\",  # http://localhost:19530\n",
    "    },\n",
    "    collection_name=\"langchain_example\",\n",
    "    drop_old=True,  # 删除现有集合以解决维度不匹配问题\n",
    ")"
   ]
  },
  {
   "cell_type": "markdown",
   "id": "315721b7",
   "metadata": {},
   "source": [
    "## 检索"
   ]
  },
  {
   "cell_type": "code",
   "execution_count": 3,
   "id": "9eae2f64",
   "metadata": {},
   "outputs": [
    {
     "data": {
      "text/plain": [
       "[Document(metadata={'source': 'https://lilianweng.github.io/posts/2023-06-23-agent/', 'pk': 460375432065191637}, page_content='Self-Reflection#\\nSelf-reflection is a vital aspect that allows autonomous agents to improve iteratively by refining past action decisions and correcting previous mistakes. It plays a crucial role in real-world tasks where trial and error are inevitable.\\nReAct (Yao et al. 2023) integrates reasoning and acting within LLM by extending the action space to be a combination of task-specific discrete actions and the language space. The former enables LLM to interact with the environment (e.g. use Wikipedia search API), while the latter prompting LLM to generate reasoning traces in natural language.\\nThe ReAct prompt template incorporates explicit steps for LLM to think, roughly formatted as:\\nThought: ...\\nAction: ...\\nObservation: ...\\n... (Repeated many times)')]"
      ]
     },
     "execution_count": 3,
     "metadata": {},
     "output_type": "execute_result"
    }
   ],
   "source": [
    "query = \"What is self-reflection of an AI Agent?\"\n",
    "vectorstore.similarity_search(query, k=1)     # 实际上后续用LCEL 实现 用构建好的 retrieval |  format_docs 来拿到模型期望的<context>字符串格式类型"
   ]
  },
  {
   "cell_type": "code",
   "execution_count": 4,
   "id": "b61aca08",
   "metadata": {},
   "outputs": [],
   "source": [
    "# Define the prompt template for generating AI responses\n",
    "from langchain.prompts import PromptTemplate\n",
    "from langchain_core.runnables import RunnablePassthrough\n",
    "from langchain_core.output_parsers import StrOutputParser\n",
    "# 您是一个人工智能助手，在可能的情况下会基于事实和统计数据来回答问题。\n",
    "# 请利用以下信息为<question>标签内的问题提供简洁回答。\n",
    "# 若不知道答案，请直接说明不清楚，不要试图编造答案。\n",
    "PROMPT_TEMPLATE = \"\"\"\n",
    "Human: You are an AI assistant, and provides answers to questions by using fact based and statistical information when possible.\n",
    "Use the following pieces of information to provide a concise answer to the question enclosed in <question> tags.\n",
    "If you don't know the answer, just say that you don't know, don't try to make up an answer.\n",
    "<context>\n",
    "{context}\n",
    "</context>\n",
    "\n",
    "<question>\n",
    "{question}\n",
    "</question>\n",
    "\n",
    "The response should be specific and use statistics or numbers when possible.\n",
    "\n",
    "Assistant:\"\"\"\n",
    "prompt = PromptTemplate(\n",
    "    template = PROMPT_TEMPLATE,\n",
    "    input_variables = [\"context\", \"question\"]\n",
    ")\n",
    "\n",
    "# 构建检索器retrieval，便于集成到LCEL\n",
    "retrieval = vectorstore.as_retriever()\n",
    "\n",
    "# 定于检索器输出处理函数\n",
    "def format_docs(docs):\n",
    "    \"\"\"Format the retrieved documents into a single string.\"\"\"\n",
    "    return \"\\n\\n\".join(doc.page_content for doc in docs)"
   ]
  },
  {
   "cell_type": "markdown",
   "id": "bf546a22",
   "metadata": {},
   "source": [
    "## 构建LECL处理逻辑链"
   ]
  },
  {
   "cell_type": "code",
   "execution_count": 6,
   "id": "4fd62f16",
   "metadata": {},
   "outputs": [
    {
     "name": "stdout",
     "output_type": "stream",
     "text": [
      "|Self|-ref|lection| of| an| AI| agent| is| a| process| that| allows| the| agent| to| improve| its| performance| by| analyzing| past| actions| and| correcting| mistakes|.| It| is| vital| for| iterative| improvement|,| particularly| in| environments| where| trial| and| error| is| necessary|.| In| the| Reflex|ion| framework|,| self|-ref|lection| involves| evaluating| the| efficiency| of| a| trajectory| and| identifying| errors| such| as| ineff|iciencies| and| halluc|inations|.| \n",
      "\n",
      "|For| instance|,| halluc|ination| appears| to| be| a| more| prevalent| issue| than| inefficient| planning| in| specific| tasks| like| Alf|World|,| according| to| experiments|.| Self|-ref|lection| enhances| reasoning| skills| by| integrating| examples| of| failed| trajectories| and| ideal| reflections| into| the| agent|'s| memory| for| ongoing| learning|.| By| doing| this|,| AI| agents| can| refine| their| strategies| and| decision|-making| processes| over| time|.||"
     ]
    }
   ],
   "source": [
    "rag_chain = (\n",
    "    {\"context\": retrieval |  format_docs, \"question\": RunnablePassthrough()}\n",
    "    | prompt\n",
    "    | llm\n",
    "    | StrOutputParser()\n",
    ")\n",
    "\n",
    "# rag_chain.get_graph().print_ascii()\n",
    "\n",
    "# Invoke the RAG chain with a specific question and retrieve the response\n",
    "# res = rag_chain.invoke(query)\n",
    "# print(res)\n",
    "# stream输出\n",
    "for chunk in rag_chain.stream(query):\n",
    "    print(chunk, end=\"|\", flush=True) "
   ]
  },
  {
   "cell_type": "code",
   "execution_count": null,
   "id": "87b0df8a",
   "metadata": {},
   "outputs": [],
   "source": []
  }
 ],
 "metadata": {
  "kernelspec": {
   "display_name": "deep_learning",
   "language": "python",
   "name": "python3"
  },
  "language_info": {
   "codemirror_mode": {
    "name": "ipython",
    "version": 3
   },
   "file_extension": ".py",
   "mimetype": "text/x-python",
   "name": "python",
   "nbconvert_exporter": "python",
   "pygments_lexer": "ipython3",
   "version": "3.12.3"
  }
 },
 "nbformat": 4,
 "nbformat_minor": 5
}

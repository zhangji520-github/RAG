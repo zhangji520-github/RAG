{
 "cells": [
  {
   "cell_type": "markdown",
   "id": "312ae507",
   "metadata": {},
   "source": [
    "## 创建客户端"
   ]
  },
  {
   "cell_type": "code",
   "execution_count": 1,
   "id": "d56b4e8d",
   "metadata": {},
   "outputs": [],
   "source": [
    "from pymilvus import MilvusClient, DataType\n",
    "\n",
    "\n",
    "# Define server address\n",
    "SERVER_ADDR = \"http://localhost:19530\"\n",
    "\n",
    "client = MilvusClient(uri = SERVER_ADDR)"
   ]
  },
  {
   "cell_type": "markdown",
   "id": "e75895f0",
   "metadata": {},
   "source": [
    "## 定义集合模式schema"
   ]
  },
  {
   "cell_type": "code",
   "execution_count": 2,
   "id": "7a522f28",
   "metadata": {},
   "outputs": [
    {
     "data": {
      "text/plain": [
       "{'auto_id': False, 'description': '', 'fields': [{'name': 'varchar_field1', 'description': '', 'type': <DataType.VARCHAR: 21>, 'params': {'max_length': 100}, 'default_value': string_data: \"Unknown\"\n",
       ", 'nullable': True}, {'name': 'varchar_field2', 'description': '', 'type': <DataType.VARCHAR: 21>, 'params': {'max_length': 200}, 'nullable': True}, {'name': 'pk', 'description': '', 'type': <DataType.INT64: 5>, 'is_primary': True, 'auto_id': True}, {'name': 'embedding', 'description': '', 'type': <DataType.FLOAT_VECTOR: 101>, 'params': {'dim': 3}}], 'enable_dynamic_field': False}"
      ]
     },
     "execution_count": 2,
     "metadata": {},
     "output_type": "execute_result"
    }
   ],
   "source": [
    "schema = client.create_schema(\n",
    "    auto_id=False,\n",
    "    enable_dynamic_fields=True\n",
    ")\n",
    "\n",
    "# 'vector_field1' 支持null并且默认值设为'Unknown' 。 'vector_field2支持null并且不设置默认值'\n",
    "schema.add_field(\n",
    "    field_name = 'varchar_field1',\n",
    "    datatype=DataType.VARCHAR,\n",
    "    max_length=100,\n",
    "    nullable=True,\n",
    "    default_value=\"Unknown\"\n",
    ")\n",
    "schema.add_field(field_name=\"varchar_field2\", datatype=DataType.VARCHAR, max_length=200, nullable=True)\n",
    "\n",
    "# 设置\"pk\"字段作为primary key\n",
    "schema.add_field(\n",
    "    field_name=\"pk\",\n",
    "    is_primary=True,\n",
    "    datatype=DataType.INT64,\n",
    "    auto_id=True\n",
    ")\n",
    "# 添加vector field \"embedding\" datatype为FLOAT_VECTOR\n",
    "schema.add_field(\n",
    "    field_name=\"embedding\",\n",
    "    datatype=DataType.FLOAT_VECTOR,\n",
    "    dim=3\n",
    ")"
   ]
  },
  {
   "cell_type": "markdown",
   "id": "ee8e71dd",
   "metadata": {},
   "source": [
    "## 设置索引参数 index params 配置向量字段和字符串字段的度量类型"
   ]
  },
  {
   "cell_type": "code",
   "execution_count": 3,
   "id": "f5874210",
   "metadata": {},
   "outputs": [
    {
     "name": "stdout",
     "output_type": "stream",
     "text": [
      "已删除现有集合 'my_collection'\n",
      "成功创建集合 'my_collection'\n"
     ]
    }
   ],
   "source": [
    "index_params = client.prepare_index_params()\n",
    "\n",
    "# Index `varchar_field1` with AUTOINDEX\n",
    "index_params.add_index(\n",
    "    field_name=\"varchar_field1\",\n",
    "    index_type=\"AUTOINDEX\",\n",
    "    index_name=\"autoindex_varchar_field1\",    \n",
    ")\n",
    "\n",
    "# Index `embedding` with COSINE \n",
    "index_params.add_index(\n",
    "    field_name=\"embedding\",\n",
    "    index_type=\"AUTOINDEX\",\n",
    "    metric_type=\"COSINE\",       # # Specify similarity metric type, options include L2, COSINE, or IP\n",
    ")\n",
    "\n",
    "# 检查集合是否已存在，如果存在则删除\n",
    "if client.has_collection(\"my_collection\"):\n",
    "    client.drop_collection(\"my_collection\")\n",
    "    print(\"已删除现有集合 'my_collection'\")\n",
    "\n",
    "# 创建集合collections\n",
    "client.create_collection(\n",
    "    collection_name=\"my_collection\",\n",
    "    schema=schema,\n",
    "    index_params=index_params,\n",
    ")\n",
    "\n",
    "print(\"成功创建集合 'my_collection'\")"
   ]
  },
  {
   "cell_type": "code",
   "execution_count": 4,
   "id": "d28a213f",
   "metadata": {},
   "outputs": [
    {
     "name": "stdout",
     "output_type": "stream",
     "text": [
      "数据插入成功\n"
     ]
    }
   ],
   "source": [
    "# 插入数据\n",
    "data = [\n",
    "    {\"varchar_field1\": \"Product A\", \"varchar_field2\": \"High quality product\", \"embedding\": [0.1, 0.2, 0.3]},\n",
    "    {\"varchar_field1\": \"Product B\", \"embedding\": [0.4, 0.5, 0.6]}, # varchar_field2 field is missing, which should be NULL\n",
    "    {\"varchar_field1\": None, \"varchar_field2\": None,\"embedding\": [0.2, 0.3, 0.1]},  # `varchar_field1` should default to `Unknown`, `varchar_field2` is NULL\n",
    "    {\"varchar_field1\": \"Product C\", \"varchar_field2\": None,  \"embedding\": [0.5, 0.7, 0.2]},  # `varchar_field2` is NULL\n",
    "    {\"varchar_field1\": None, \"varchar_field2\": \"Exclusive deal\",  \"embedding\": [0.6, 0.4, 0.8]},  # `varchar_field1` should default to `Unknown`\n",
    "    {\"varchar_field1\": \"Unknown\", \"varchar_field2\": None, \"embedding\": [0.8, 0.5, 0.3]},  # `varchar_field2` is NULL\n",
    "    {\"varchar_field1\": \"\", \"varchar_field2\": \"Best seller\", \"embedding\": [0.8, 0.5, 0.3]}, # Empty string is not treated as NULL\n",
    "]\n",
    "\n",
    "client.insert(\n",
    "    collection_name=\"my_collection\",\n",
    "    data=data\n",
    ")\n",
    "print(\"数据插入成功\")"
   ]
  },
  {
   "cell_type": "code",
   "execution_count": 5,
   "id": "e3bcf6dd",
   "metadata": {},
   "outputs": [
    {
     "name": "stdout",
     "output_type": "stream",
     "text": [
      "data: [[{'pk': 460327157461156626, 'distance': -0.04468163847923279, 'entity': {'varchar_field2': 'Best seller', 'varchar_field1': '', 'pk': 460327157461156626, 'embedding': [0.800000011920929, 0.5, 0.30000001192092896]}}]]\n"
     ]
    }
   ],
   "source": [
    "# 带过滤表达式的向量搜索\n",
    "# Filter `varchar_field2` with value \"Best seller\"\n",
    "filter = 'varchar_field2 == \"Best seller\"'\n",
    "\n",
    "search_params = {\n",
    "    \"metric_type\": \"COSINE\",\n",
    "    \"params\": {\"nprobe\": 10},\n",
    "}\n",
    "\n",
    "results = client.search(\n",
    "    collection_name=\"my_collection\",\n",
    "    data=[[0.3, -0.6, 0.1]],\n",
    "    search_params=search_params,\n",
    "    filter=filter,\n",
    "    output_fields=[\"pk\", \"varchar_field1\", \"varchar_field2\", \"embedding\"],\n",
    "    limit=3\n",
    ")\n",
    "print(results)"
   ]
  },
  {
   "cell_type": "code",
   "execution_count": 6,
   "id": "9d842cc9",
   "metadata": {},
   "outputs": [
    {
     "name": "stdout",
     "output_type": "stream",
     "text": [
      "查询结果:\n",
      "data: [\"{'pk': 460327157461156622, 'varchar_field1': 'Unknown', 'varchar_field2': None, 'embedding': [0.20000000298023224, 0.30000001192092896, 0.10000000149011612]}\", \"{'pk': 460327157461156624, 'varchar_field1': 'Unknown', 'varchar_field2': 'Exclusive deal', 'embedding': [0.6000000238418579, 0.4000000059604645, 0.800000011920929]}\", \"{'pk': 460327157461156625, 'varchar_field1': 'Unknown', 'varchar_field2': None, 'embedding': [0.800000011920929, 0.5, 0.30000001192092896]}\"], extra_info: {}\n"
     ]
    }
   ],
   "source": [
    "# 使用筛选表达式进行查询\n",
    "results = client.query(\n",
    "    collection_name=\"my_collection\",\n",
    "    filter='varchar_field1 == \"Unknown\"',\n",
    "    output_fields=[\"pk\", \"varchar_field1\", \"varchar_field2\", \"embedding\"],\n",
    ")\n",
    "print(\"查询结果:\")\n",
    "print(results)"
   ]
  },
  {
   "cell_type": "code",
   "execution_count": 7,
   "id": "25a82733",
   "metadata": {},
   "outputs": [
    {
     "name": "stdout",
     "output_type": "stream",
     "text": [
      "查询结果:\n",
      "data: [], extra_info: {}\n"
     ]
    }
   ],
   "source": [
    "filter = \"pk in [1, 3, 5]\"\n",
    "results = client.query(\n",
    "    collection_name=\"my_collection\",\n",
    "    filter=filter,\n",
    "    output_fields=[\"pk\", \"varchar_field1\", \"varchar_field2\", \"embedding\"],\n",
    ")\n",
    "print(\"查询结果:\")\n",
    "print(results)  "
   ]
  },
  {
   "cell_type": "code",
   "execution_count": null,
   "id": "15a4eead",
   "metadata": {},
   "outputs": [],
   "source": []
  }
 ],
 "metadata": {
  "kernelspec": {
   "display_name": "ai_learn_linux",
   "language": "python",
   "name": "python3"
  },
  "language_info": {
   "codemirror_mode": {
    "name": "ipython",
    "version": 3
   },
   "file_extension": ".py",
   "mimetype": "text/x-python",
   "name": "python",
   "nbconvert_exporter": "python",
   "pygments_lexer": "ipython3",
   "version": "3.11.13"
  }
 },
 "nbformat": 4,
 "nbformat_minor": 5
}

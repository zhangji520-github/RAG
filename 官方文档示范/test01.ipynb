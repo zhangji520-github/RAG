{
 "cells": [
  {
   "cell_type": "code",
   "execution_count": 2,
   "id": "52d164ed",
   "metadata": {},
   "outputs": [],
   "source": [
    "from pymilvus import MilvusClient\n",
    "# 实例化客户端\n",
    "client = MilvusClient(\"milvus_demo.db\")"
   ]
  },
  {
   "cell_type": "markdown",
   "id": "5756f802",
   "metadata": {},
   "source": [
    "## 创建好client 和 collections"
   ]
  },
  {
   "cell_type": "code",
   "execution_count": 3,
   "id": "e41c6cbd",
   "metadata": {},
   "outputs": [],
   "source": [
    "if client.has_collection(collection_name=\"demo_collection\"):\n",
    "    client.drop_collection(collection_name=\"demo_collection\")\n",
    "client.create_collection(\n",
    "    collection_name=\"demo_collection\", \n",
    "    dimension=768\n",
    "    )             # 在 Milvus 中，我们需要一个 Collections 来存储向量及其相关元数据 可以定义 Schema 和索引参数来配置向量规格，如维度、索引类型和远距离度量"
   ]
  },
  {
   "cell_type": "code",
   "execution_count": 4,
   "id": "74afd4e1",
   "metadata": {},
   "outputs": [],
   "source": [
    "# If connection to https://huggingface.co/ failed, uncomment the following path\n",
    "import os\n",
    "os.environ['HF_ENDPOINT'] = 'https://hf-mirror.com'\n",
    "\n",
    "# This will download a small embedding model \"paraphrase-albert-small-v2\" (~50MB)."
   ]
  },
  {
   "cell_type": "markdown",
   "id": "8a021f06",
   "metadata": {},
   "source": [
    "## 加载模型并且对数据进行embedding向量化"
   ]
  },
  {
   "cell_type": "code",
   "execution_count": 5,
   "id": "6d8051cd",
   "metadata": {},
   "outputs": [
    {
     "name": "stderr",
     "output_type": "stream",
     "text": [
      "/home/ji294/miniconda3/envs/ai_learn_linux/lib/python3.11/site-packages/tqdm/auto.py:21: TqdmWarning: IProgress not found. Please update jupyter and ipywidgets. See https://ipywidgets.readthedocs.io/en/stable/user_install.html\n",
      "  from .autonotebook import tqdm as notebook_tqdm\n",
      "None of PyTorch, TensorFlow >= 2.0, or Flax have been found. Models won't be available and only tokenizers, configuration and file/data utilities can be used.\n"
     ]
    },
    {
     "name": "stdout",
     "output_type": "stream",
     "text": [
      "Dim: 768 (768,)\n"
     ]
    }
   ],
   "source": [
    "from pymilvus import model\n",
    "\n",
    "\n",
    "# This will download a small embedding model \"paraphrase-albert-small-v2\" (~50MB).\n",
    "embedding_fn = model.DefaultEmbeddingFunction()\n",
    "\n",
    "# Text strings to search from.\n",
    "docs = [\n",
    "    \"Artificial intelligence was founded as an academic discipline in 1956.\",\n",
    "    \"Alan Turing was the first person to conduct substantial research in AI.\",\n",
    "    \"Born in Maida Vale, London, Turing was raised in southern England.\",\n",
    "]\n",
    "\n",
    "# 对原始数据用embedding模型进行向量化 encode_documents\n",
    "vectors = embedding_fn.encode_documents(docs)\n",
    "\n",
    "# The output vector has 768 dimensions, matching the collection that we just created.  这里注意embedding模型hidden_dim需要与collection的dimension一致\n",
    "print(\"Dim:\", embedding_fn.dim, vectors[0].shape)  # Dim: 768 (768,)"
   ]
  },
  {
   "cell_type": "code",
   "execution_count": 6,
   "id": "e272d770",
   "metadata": {},
   "outputs": [
    {
     "name": "stdout",
     "output_type": "stream",
     "text": [
      "向量的长度为：768\n"
     ]
    }
   ],
   "source": [
    "print(f\"向量的长度为：{len(vectors[0])}\")"
   ]
  },
  {
   "cell_type": "code",
   "execution_count": 7,
   "id": "b79deefd",
   "metadata": {},
   "outputs": [
    {
     "name": "stdout",
     "output_type": "stream",
     "text": [
      "Data has 3 entities,each with fields:dict_keys(['id', 'vector', 'text', 'subject'])\n"
     ]
    }
   ],
   "source": [
    "# 插入 Milvus 数据库的数据结构：每条记录包含 ID、向量、原文、分类标签。 \n",
    "data = [\n",
    "    {\n",
    "        \"id\": i,                  # Milvus 中的主键 每条数据的唯一标识符 不能重复\n",
    "        \"vector\": vectors[i],     # 文本 ---> vectors\n",
    "        \"text\": docs[i],          # 原始文本\n",
    "        \"subject\": \"history\"      # 标签 可以自定义\n",
    "    }\n",
    "    for i in range(len(vectors))\n",
    "]\n",
    "print(f\"Data has {len(data)} entities,each with fields:{data[0].keys()}\")    # data[0].keys() → 查看第一条数据包含哪些字段（也就是 Milvus 集合的 schema 应该有的字段）。"
   ]
  },
  {
   "cell_type": "code",
   "execution_count": 8,
   "id": "73c41664",
   "metadata": {},
   "outputs": [
    {
     "name": "stdout",
     "output_type": "stream",
     "text": [
      "Vector dim: 768\n"
     ]
    }
   ],
   "source": [
    "print(\"Vector dim:\", len(data[0][\"vector\"]))        # 获取第一条数据的向量（data[0][\"vector\"]），并打印其长度"
   ]
  },
  {
   "cell_type": "markdown",
   "id": "b871ad73",
   "metadata": {},
   "source": [
    "## 让我们把数据插入 Collections："
   ]
  },
  {
   "cell_type": "code",
   "execution_count": 9,
   "id": "24829375",
   "metadata": {},
   "outputs": [
    {
     "name": "stdout",
     "output_type": "stream",
     "text": [
      "Inserted 3 entities\n",
      "{'insert_count': 3, 'ids': [0, 1, 2]}\n"
     ]
    }
   ],
   "source": [
    "res = client.insert(collection_name=\"demo_collection\", data=data)\n",
    "print(f\"Inserted {len(res)} entities\")                           \n",
    "print(res)      # insert_count: 3 表示有 3 条数据被成功写入数据库。  ids: 分配给每条数据的唯一 ID 列表"
   ]
  },
  {
   "cell_type": "markdown",
   "id": "bbd246bf",
   "metadata": {},
   "source": [
    "## 语义搜索"
   ]
  },
  {
   "cell_type": "markdown",
   "id": "aaa22d63",
   "metadata": {},
   "source": [
    "### 1.向量搜索"
   ]
  },
  {
   "cell_type": "code",
   "execution_count": 10,
   "id": "5a6f25af",
   "metadata": {},
   "outputs": [
    {
     "name": "stdout",
     "output_type": "stream",
     "text": [
      "data: [[{'id': 2, 'distance': 0.5859946012496948, 'entity': {'text': 'Born in Maida Vale, London, Turing was raised in southern England.', 'subject': 'history'}}, {'id': 1, 'distance': 0.5118255615234375, 'entity': {'text': 'Alan Turing was the first person to conduct substantial research in AI.', 'subject': 'history'}}]]\n"
     ]
    }
   ],
   "source": [
    "# Milvus 可同时接受一个或多个向量搜索请求。query_vectors 变量的值是一个向量列表，其中每个向量都是一个浮点数数组。\n",
    "queries = [\"who is Alan Turing?\"]\n",
    "query_vectors = embedding_fn.encode_queries(queries)\n",
    "\n",
    "# 执行搜索 - 注意这里使用 query_vectors 而不是原来的 data\n",
    "result = client.search(\n",
    "    collection_name=\"demo_collection\",\n",
    "    data=query_vectors,  # 这里应该是查询向量，不是插入数据\n",
    "    limit=2,\n",
    "    output_fields=[ \"text\", \"subject\"]       # 指定output_fields 的实体详细信息 存储在 entity\n",
    ")\n",
    "print(result)\n",
    "\n",
    "# 输出结果是一个结果列表，每个结果映射到一个向量搜索查询。\n",
    "# 每个查询都包含一个结果列表，其中每个结果都包含实体主键、到查询向量的距离以及指定output_fields 的实体详细信息。\n"
   ]
  },
  {
   "cell_type": "markdown",
   "id": "fc4abc9a",
   "metadata": {},
   "source": [
    "## 带元数据过滤的向量搜索"
   ]
  },
  {
   "cell_type": "code",
   "execution_count": 11,
   "id": "841cf88e",
   "metadata": {},
   "outputs": [
    {
     "name": "stdout",
     "output_type": "stream",
     "text": [
      "data: [[{'id': 4, 'distance': 0.2703055739402771, 'entity': {'text': 'Computational synthesis with AI algorithms predicts molecular properties.', 'subject': 'biology'}}, {'id': 3, 'distance': 0.16425904631614685, 'entity': {'text': 'Machine learning has been used for drug design.', 'subject': 'biology'}}]]\n"
     ]
    }
   ],
   "source": [
    "docs = [\n",
    "    \"Machine learning has been used for drug design.\",\n",
    "    \"Computational synthesis with AI algorithms predicts molecular properties.\",\n",
    "    \"DDR1 is involved in cancers and fibrosis.\",\n",
    "]\n",
    "vectors = embedding_fn.encode_documents(docs)\n",
    "data = [\n",
    "    {\"id\": 3 + i, \"vector\": vectors[i], \"text\": docs[i], \"subject\": \"biology\"}\n",
    "    for i in range(len(vectors))\n",
    "]\n",
    "\n",
    "client.insert(collection_name=\"demo_collection\", data=data)\n",
    "\n",
    "res = client.search(\n",
    "    collection_name=\"demo_collection\",\n",
    "    data=embedding_fn.encode_queries([\"tell me AI related information\"]),\n",
    "    filter=\"subject == 'biology'\",\n",
    "    limit=2,\n",
    "    output_fields=[\"text\", \"subject\"],\n",
    ")\n",
    "\n",
    "print(res)\n"
   ]
  },
  {
   "cell_type": "markdown",
   "id": "fa8914de",
   "metadata": {},
   "source": [
    "## 查询"
   ]
  },
  {
   "cell_type": "code",
   "execution_count": 12,
   "id": "1cbe383c",
   "metadata": {},
   "outputs": [],
   "source": [
    "res = client.query(\n",
    "    collection_name=\"demo_collection\",\n",
    "    filter=\"subject == 'history'\",\n",
    "    output_fields=[\"text\", \"subject\"],\n",
    ")"
   ]
  },
  {
   "cell_type": "code",
   "execution_count": 13,
   "id": "60721476",
   "metadata": {},
   "outputs": [
    {
     "data": {
      "text/plain": [
       "data: [\"{'id': 0, 'text': 'Artificial intelligence was founded as an academic discipline in 1956.', 'subject': 'history'}\", \"{'id': 1, 'text': 'Alan Turing was the first person to conduct substantial research in AI.', 'subject': 'history'}\", \"{'id': 2, 'text': 'Born in Maida Vale, London, Turing was raised in southern England.', 'subject': 'history'}\"], extra_info: {}"
      ]
     },
     "execution_count": 13,
     "metadata": {},
     "output_type": "execute_result"
    }
   ],
   "source": [
    "res"
   ]
  },
  {
   "cell_type": "code",
   "execution_count": 14,
   "id": "ac127dd8",
   "metadata": {},
   "outputs": [],
   "source": [
    "res = client.query(\n",
    "    collection_name=\"demo_collection\",\n",
    "    ids=[0, 2],\n",
    "    output_fields=[ \"text\", \"subject\"],\n",
    ")"
   ]
  },
  {
   "cell_type": "code",
   "execution_count": 15,
   "id": "55417295",
   "metadata": {},
   "outputs": [
    {
     "data": {
      "text/plain": [
       "data: [\"{'id': 0, 'text': 'Artificial intelligence was founded as an academic discipline in 1956.', 'subject': 'history'}\", \"{'id': 2, 'text': 'Born in Maida Vale, London, Turing was raised in southern England.', 'subject': 'history'}\"], extra_info: {}"
      ]
     },
     "execution_count": 15,
     "metadata": {},
     "output_type": "execute_result"
    }
   ],
   "source": [
    "res"
   ]
  },
  {
   "cell_type": "code",
   "execution_count": 16,
   "id": "6ff26689",
   "metadata": {},
   "outputs": [
    {
     "name": "stdout",
     "output_type": "stream",
     "text": [
      "[0, 2]\n"
     ]
    }
   ],
   "source": [
    "# Delete entities by primary key\n",
    "res = client.delete(\n",
    "    collection_name=\"demo_collection\",\n",
    "    ids=[0, 2],\n",
    ")\n",
    "print(res)"
   ]
  },
  {
   "cell_type": "code",
   "execution_count": 17,
   "id": "e7833533",
   "metadata": {},
   "outputs": [
    {
     "name": "stdout",
     "output_type": "stream",
     "text": [
      "[3, 4, 5]\n"
     ]
    }
   ],
   "source": [
    "# Delete entities by a filter expression\n",
    "res = client.delete(\n",
    "    collection_name=\"demo_collection\",\n",
    "    filter=\"subject == 'biology'\",\n",
    ")\n",
    "\n",
    "print(res)"
   ]
  },
  {
   "cell_type": "code",
   "execution_count": null,
   "id": "2dad3b51",
   "metadata": {},
   "outputs": [],
   "source": [
    "# 删除collections\n",
    "client.drop_collection(collection_name=\"demo_collection\")"
   ]
  },
  {
   "cell_type": "code",
   "execution_count": null,
   "id": "26e5e6c4",
   "metadata": {},
   "outputs": [],
   "source": []
  }
 ],
 "metadata": {
  "kernelspec": {
   "display_name": "ai_learn_linux",
   "language": "python",
   "name": "python3"
  },
  "language_info": {
   "codemirror_mode": {
    "name": "ipython",
    "version": 3
   },
   "file_extension": ".py",
   "mimetype": "text/x-python",
   "name": "python",
   "nbconvert_exporter": "python",
   "pygments_lexer": "ipython3",
   "version": "3.11.13"
  }
 },
 "nbformat": 4,
 "nbformat_minor": 5
}

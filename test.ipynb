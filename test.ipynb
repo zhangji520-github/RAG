{
 "cells": [
  {
   "cell_type": "code",
   "execution_count": 1,
   "id": "eef5ff61",
   "metadata": {},
   "outputs": [],
   "source": [
    "import getpass\n",
    "import os\n",
    "\n",
    "if not os.getenv(\"MODELSCOPE_SDK_TOKEN\"):\n",
    "    os.environ[\"MODELSCOPE_SDK_TOKEN\"] = getpass.getpass(\n",
    "        \"ms-1054f20b-012b-4e41-a59d-0abbba5346ed\"\n",
    "    )"
   ]
  },
  {
   "cell_type": "code",
   "execution_count": 2,
   "id": "65ead07b",
   "metadata": {},
   "outputs": [
    {
     "ename": "ImportError",
     "evalue": "cannot import name 'ModelScopeEmbeddings' from 'langchain_modelscope' (e:\\Workspace\\Anaconda\\envs\\deep_learning\\Lib\\site-packages\\langchain_modelscope\\__init__.py)",
     "output_type": "error",
     "traceback": [
      "\u001b[1;31m---------------------------------------------------------------------------\u001b[0m",
      "\u001b[1;31mImportError\u001b[0m                               Traceback (most recent call last)",
      "Cell \u001b[1;32mIn[2], line 1\u001b[0m\n\u001b[1;32m----> 1\u001b[0m \u001b[38;5;28;01mfrom\u001b[39;00m\u001b[38;5;250m \u001b[39m\u001b[38;5;21;01mlangchain_modelscope\u001b[39;00m\u001b[38;5;250m \u001b[39m\u001b[38;5;28;01mimport\u001b[39;00m ModelScopeEmbeddings\n\u001b[0;32m      3\u001b[0m embeddings \u001b[38;5;241m=\u001b[39m ModelScopeEmbeddings(\n\u001b[0;32m      4\u001b[0m     model_id\u001b[38;5;241m=\u001b[39m\u001b[38;5;124m\"\u001b[39m\u001b[38;5;124mQwen/Qwen3-Embedding-0.6B\u001b[39m\u001b[38;5;124m\"\u001b[39m,\n\u001b[0;32m      5\u001b[0m )\n",
      "\u001b[1;31mImportError\u001b[0m: cannot import name 'ModelScopeEmbeddings' from 'langchain_modelscope' (e:\\Workspace\\Anaconda\\envs\\deep_learning\\Lib\\site-packages\\langchain_modelscope\\__init__.py)"
     ]
    }
   ],
   "source": [
    "from langchain_modelscope import ModelScopeEmbeddings\n",
    "\n",
    "embeddings = ModelScopeEmbeddings(\n",
    "    model_id=\"Qwen/Qwen3-Embedding-0.6B\",\n",
    ")"
   ]
  },
  {
   "cell_type": "code",
   "execution_count": null,
   "id": "0da62c3d",
   "metadata": {},
   "outputs": [],
   "source": []
  }
 ],
 "metadata": {
  "kernelspec": {
   "display_name": "deep_learning",
   "language": "python",
   "name": "python3"
  },
  "language_info": {
   "codemirror_mode": {
    "name": "ipython",
    "version": 3
   },
   "file_extension": ".py",
   "mimetype": "text/x-python",
   "name": "python",
   "nbconvert_exporter": "python",
   "pygments_lexer": "ipython3",
   "version": "3.12.3"
  }
 },
 "nbformat": 4,
 "nbformat_minor": 5
}

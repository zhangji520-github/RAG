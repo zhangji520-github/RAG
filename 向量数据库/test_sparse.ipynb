{
 "cells": [
  {
   "cell_type": "markdown",
   "id": "742b3394",
   "metadata": {},
   "source": [
    "## 全文检索"
   ]
  },
  {
   "cell_type": "code",
   "execution_count": 1,
   "id": "9b18a5bc",
   "metadata": {},
   "outputs": [
    {
     "data": {
      "text/plain": [
       "{'auto_id': False, 'description': '', 'fields': [{'name': 'id', 'description': '', 'type': <DataType.INT64: 5>, 'is_primary': True, 'auto_id': True}, {'name': 'text', 'description': '', 'type': <DataType.VARCHAR: 21>, 'params': {'max_length': 256, 'enable_analyzer': True}}, {'name': 'sparse', 'description': '', 'type': <DataType.SPARSE_FLOAT_VECTOR: 104>}], 'enable_dynamic_field': False}"
      ]
     },
     "execution_count": 1,
     "metadata": {},
     "output_type": "execute_result"
    }
   ],
   "source": [
    "from pymilvus import MilvusClient, DataType\n",
    "\n",
    "\n",
    "# Define server address\n",
    "SERVER_ADDR = \"http://localhost:19530\"\n",
    "\n",
    "client = MilvusClient(uri = SERVER_ADDR)\n",
    "\n",
    "schema = client.create_schema()\n",
    "\n",
    "schema.add_field(field_name=\"id\", datatype=DataType.INT64, is_primary=True, auto_id=True) \n",
    "schema.add_field(field_name=\"text\", datatype=DataType.VARCHAR, max_length=256, enable_analyzer=True)     # VARCHAR 是 Milvus 用于文本存储的字符串数据类型。设置 enable_analyzer=True 以允许 Milvus 对文本进行分词。\n",
    "schema.add_field(field_name=\"sparse\", datatype=DataType.SPARSE_FLOAT_VECTOR) # 保留用于存储内部生成的稀疏嵌入向量的字段，用于全文搜索操作。数据类型必须为 SPARSE_FLOAT_VECTOR 。"
   ]
  },
  {
   "cell_type": "code",
   "execution_count": null,
   "id": "fff4903d",
   "metadata": {},
   "outputs": [
    {
     "ename": "ParamError",
     "evalue": "<ParamError: (code=1, message=The function of schema type must be Function.)>",
     "output_type": "error",
     "traceback": [
      "\u001b[1;31m---------------------------------------------------------------------------\u001b[0m",
      "\u001b[1;31mParamError\u001b[0m                                Traceback (most recent call last)",
      "Cell \u001b[1;32mIn[2], line 12\u001b[0m\n\u001b[0;32m      3\u001b[0m \u001b[38;5;28;01mfrom\u001b[39;00m\u001b[38;5;250m \u001b[39m\u001b[38;5;21;01mpymilvus\u001b[39;00m\u001b[38;5;250m \u001b[39m\u001b[38;5;28;01mimport\u001b[39;00m FunctionType,Function\n\u001b[0;32m      5\u001b[0m bm25_function \u001b[38;5;241m=\u001b[39m Function(\n\u001b[0;32m      6\u001b[0m     name \u001b[38;5;241m=\u001b[39m \u001b[38;5;124m\"\u001b[39m\u001b[38;5;124mtext_bm25_emb\u001b[39m\u001b[38;5;124m\"\u001b[39m,\n\u001b[0;32m      7\u001b[0m     input_field_names\u001b[38;5;241m=\u001b[39m[\u001b[38;5;124m\"\u001b[39m\u001b[38;5;124mtext\u001b[39m\u001b[38;5;124m\"\u001b[39m], \u001b[38;5;66;03m# # 需要进行文本到稀疏向量转换的 VARCHAR 字段名称。对于 FunctionType.BM25 ，此参数仅接受一个字段名称。\u001b[39;00m\n\u001b[0;32m      8\u001b[0m     output_field_names\u001b[38;5;241m=\u001b[39m[\u001b[38;5;124m\"\u001b[39m\u001b[38;5;124msparse\u001b[39m\u001b[38;5;124m\"\u001b[39m], \u001b[38;5;66;03m# # 存储内部生成稀疏向量的字段名称。对于 FunctionType.BM25 ，此参数仅接受一个字段名。\u001b[39;00m\n\u001b[0;32m      9\u001b[0m     function_type\u001b[38;5;241m=\u001b[39mFunctionType\u001b[38;5;241m.\u001b[39mBM25 \u001b[38;5;66;03m# # 要使用的函数类型。将该值设置为 FunctionType.BM25\u001b[39;00m\n\u001b[0;32m     10\u001b[0m )\n\u001b[1;32m---> 12\u001b[0m \u001b[43mschema\u001b[49m\u001b[38;5;241;43m.\u001b[39;49m\u001b[43madd_function\u001b[49m\u001b[43m(\u001b[49m\u001b[43mBM25BuiltInFunction\u001b[49m\u001b[43m(\u001b[49m\u001b[43m)\u001b[49m\u001b[43m)\u001b[49m\n\u001b[0;32m     14\u001b[0m \u001b[38;5;66;03m# 配置索引\u001b[39;00m\n\u001b[0;32m     15\u001b[0m index_params \u001b[38;5;241m=\u001b[39m client\u001b[38;5;241m.\u001b[39mprepare_index_params()\n",
      "File \u001b[1;32me:\\Workspace\\Anaconda\\envs\\deep_learning\\Lib\\site-packages\\pymilvus\\orm\\schema.py:369\u001b[0m, in \u001b[0;36mCollectionSchema.add_function\u001b[1;34m(self, function)\u001b[0m\n\u001b[0;32m    367\u001b[0m \u001b[38;5;28;01mdef\u001b[39;00m\u001b[38;5;250m \u001b[39m\u001b[38;5;21madd_function\u001b[39m(\u001b[38;5;28mself\u001b[39m, function: \u001b[38;5;124m\"\u001b[39m\u001b[38;5;124mFunction\u001b[39m\u001b[38;5;124m\"\u001b[39m):\n\u001b[0;32m    368\u001b[0m     \u001b[38;5;28;01mif\u001b[39;00m \u001b[38;5;129;01mnot\u001b[39;00m \u001b[38;5;28misinstance\u001b[39m(function, Function):\n\u001b[1;32m--> 369\u001b[0m         \u001b[38;5;28;01mraise\u001b[39;00m ParamError(message\u001b[38;5;241m=\u001b[39mExceptionsMessage\u001b[38;5;241m.\u001b[39mFunctionIncorrectType)\n\u001b[0;32m    370\u001b[0m     \u001b[38;5;28mself\u001b[39m\u001b[38;5;241m.\u001b[39m_functions\u001b[38;5;241m.\u001b[39mappend(function)\n\u001b[0;32m    371\u001b[0m     \u001b[38;5;28mself\u001b[39m\u001b[38;5;241m.\u001b[39m_mark_output_fields()\n",
      "\u001b[1;31mParamError\u001b[0m: <ParamError: (code=1, message=The function of schema type must be Function.)>"
     ]
    }
   ],
   "source": [
    "# 构建用于全文搜索的 bm25 Function\n",
    "from langchain_milvus import BM25BuiltInFunction\n",
    "from pymilvus import FunctionType,Function\n",
    "\n",
    "bm25_function = Function(\n",
    "    name = \"text_bm25_emb\",\n",
    "    input_field_names=[\"text\"], # # 需要进行文本到稀疏向量转换的 VARCHAR 字段名称。对于 FunctionType.BM25 ，此参数仅接受一个字段名称。\n",
    "    output_field_names=[\"sparse\"], # # 存储内部生成稀疏向量的字段名称。对于 FunctionType.BM25 ，此参数仅接受一个字段名。\n",
    "    function_type=FunctionType.BM25 # # 要使用的函数类型。将该值设置为 FunctionType.BM25\n",
    ")\n",
    "\n",
    "schema.add_function(bm25_function)\n",
    "\n",
    "# 配置索引\n",
    "index_params = client.prepare_index_params()\n",
    "\n",
    "index_params.add_index(\n",
    "    field_name=\"sparse\",\n",
    "\n",
    "    index_type=\"SPARSE_INVERTED_INDEX\",\n",
    "    metric_type=\"BM25\",\n",
    "    params={\n",
    "        \"inverted_index_algo\": \"DAATA_MAXSCORE\", # （默认）：采用 MaxScore 算法优化的文档逐次（DAAT）查询处理。\n",
    "        \"bm25_k1\": 1.2,       # 数值越高，专业术语词频在文档排名中的重要性越大。取值范围：[1.2, 2.0]。\n",
    "        \"bm25_b\": 0.75 \n",
    "    }\n",
    ")\n",
    "\n",
    "# 检查集合是否已存在，如果存在则删除\n",
    "if client.has_collection(\"my_collection\"):\n",
    "    client.drop_collection(\"my_collection\")\n",
    "    print(\"已删除现有集合 'my_collection'\")\n",
    "\n",
    "# 创建集合collections\n",
    "client.create_collection(\n",
    "    collection_name=\"my_collection\",\n",
    "    schema=schema,\n",
    "    index_params=index_params,\n",
    ")\n",
    "\n",
    "print(\"成功创建集合 'my_collection'\")"
   ]
  },
  {
   "cell_type": "code",
   "execution_count": 3,
   "id": "0a523051",
   "metadata": {},
   "outputs": [
    {
     "data": {
      "text/plain": [
       "{'insert_count': 3, 'ids': [460357983284649671, 460357983284649672, 460357983284649673], 'cost': 0}"
      ]
     },
     "execution_count": 3,
     "metadata": {},
     "output_type": "execute_result"
    }
   ],
   "source": [
    "# 插入数据\n",
    "client.insert('my_collection', [\n",
    "    {'text': 'information retrieval is a field of study.'},\n",
    "    {'text': 'information retrieval focuses on finding relevant information in large datasets.'},\n",
    "    {'text': 'data mining and information retrieval overlap in research.'},\n",
    "])"
   ]
  },
  {
   "cell_type": "code",
   "execution_count": 6,
   "id": "ced8f89f",
   "metadata": {},
   "outputs": [
    {
     "data": {
      "text/plain": [
       "data: [[{'id': 460357983284649671, 'distance': 1.3352930545806885, 'entity': {'text': 'information retrieval is a field of study.', 'id': 460357983284649671}}]]"
      ]
     },
     "execution_count": 6,
     "metadata": {},
     "output_type": "execute_result"
    }
   ],
   "source": [
    "search_params = {\n",
    "    'params': {\n",
    "        'drop_ratio_search': 0.2,           # 搜索期间忽略的低重要性术语的比例\n",
    "    }\n",
    "}\n",
    "\n",
    "client.search(\n",
    "    collection_name=\"my_collection\",\n",
    "    data=['whats the focus of information retrieval?'], # 自然语言原始查询文本。Milvus 通过 BM25 函数自动将您的文本查询转换为稀疏向量——请勿提供预计算向量。\n",
    "    search_params=search_params,\n",
    "    anns_field=\"sparse\", # 包含内部生成稀疏向量的字段名称。 \n",
    "    output_fields=[\"id\",\"text\"], #'sparse' causes an error\n",
    "    limit=1,\n",
    ")"
   ]
  },
  {
   "cell_type": "code",
   "execution_count": null,
   "id": "f98f6dd0",
   "metadata": {},
   "outputs": [],
   "source": []
  }
 ],
 "metadata": {
  "kernelspec": {
   "display_name": "deep_learning",
   "language": "python",
   "name": "python3"
  },
  "language_info": {
   "codemirror_mode": {
    "name": "ipython",
    "version": 3
   },
   "file_extension": ".py",
   "mimetype": "text/x-python",
   "name": "python",
   "nbconvert_exporter": "python",
   "pygments_lexer": "ipython3",
   "version": "3.12.3"
  }
 },
 "nbformat": 4,
 "nbformat_minor": 5
}
